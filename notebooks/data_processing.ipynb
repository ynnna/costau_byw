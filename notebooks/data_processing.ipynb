{
 "cells": [
  {
   "cell_type": "code",
   "execution_count": 1,
   "metadata": {},
   "outputs": [],
   "source": [
    "# Packages\n",
    "import pandas as pd\n",
    "import numpy as np\n",
    "\n",
    "# Local package costau_byw (welsh for cost of living)\n",
    "import utils as ut"
   ]
  },
  {
   "cell_type": "code",
   "execution_count": 2,
   "metadata": {},
   "outputs": [],
   "source": [
    "# Importing data\n",
    "df_expenditure =  pd.read_csv(\"../data/csv/hh_expenditure_2001_2021.csv\")\n",
    "df_inflation = pd.read_csv(\"../data/csv/cpi_index.csv\")"
   ]
  },
  {
   "cell_type": "code",
   "execution_count": 3,
   "metadata": {},
   "outputs": [],
   "source": [
    "\n",
    "# Correcting the column names\n",
    "initial_col_names = df_expenditure.columns\n",
    "corrected_col_names = [x[0:4] for x in initial_col_names]\n",
    "corrected_col_names[0] = 'category'\n",
    "df_expenditure.columns = corrected_col_names\n",
    "\n",
    "# Tidying the format\n",
    "df_expenditure_formatted= pd.DataFrame(pd.melt(df_expenditure,\n",
    "                       [\"category\"],\n",
    "                       var_name=\"year\",\n",
    "                       value_name=\"expenditure\"))\n",
    "\n",
    "df_expenditure_formatted['year'] = df_expenditure_formatted['year'].astype('int64')\n",
    "df_merged = pd.merge(df_expenditure_formatted,df_inflation, how=\"left\", on = 'year')\n",
    "df_merged= ut.adjust_df_for_inflation(df_merged, \"expenditure\", 'adjusted_expenditure', 'cpi_index_2015')\n",
    "\n",
    "df_clean = df_merged.drop(['expenditure', 'cpi_index_2015'], axis = 1)\n",
    "# Saving\n",
    "df_clean.to_csv(\"../data/csv/df.csv\", index=False)\n",
    "\n",
    "#Caculating percentages for each category and year\n",
    "df = df_clean[df_clean['category'] != 'Average per person']\n",
    "years = df['year'].unique()\n",
    "categories = df['category'].unique()\n",
    "\n",
    "list_all = []\n",
    "for year in years:\n",
    "    percentage_list = []\n",
    "    subsetted_year = df[df['year'] == year]\n",
    "    total_exp = sum(subsetted_year['adjusted_expenditure']) \n",
    "    for cat in categories:\n",
    "        subsetted_cat = subsetted_year[subsetted_year['category'] == cat]\n",
    "        percentage = round(sum(subsetted_cat['adjusted_expenditure']) / total_exp * 100,2)\n",
    "        row = [cat, percentage, year]\n",
    "        list_all.append(row)\n",
    "        \n",
    "df_percentage = pd.DataFrame(list_all, columns= ['category', 'percentage', 'year'])\n",
    "# Saving\n",
    "df_percentage.to_csv(\"../data/csv/df_percentages.csv\", index=False)\n"
   ]
  }
 ],
 "metadata": {
  "kernelspec": {
   "display_name": "Python 3.9.13 ('env_cost': venv)",
   "language": "python",
   "name": "python3"
  },
  "language_info": {
   "codemirror_mode": {
    "name": "ipython",
    "version": 3
   },
   "file_extension": ".py",
   "mimetype": "text/x-python",
   "name": "python",
   "nbconvert_exporter": "python",
   "pygments_lexer": "ipython3",
   "version": "3.9.13"
  },
  "orig_nbformat": 4,
  "vscode": {
   "interpreter": {
    "hash": "7df4d0319bf6c55b964f3910c4488bb382d88df070520b79057b621aaffb13a9"
   }
  }
 },
 "nbformat": 4,
 "nbformat_minor": 2
}
